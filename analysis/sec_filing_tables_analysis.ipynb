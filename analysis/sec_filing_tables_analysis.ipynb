{
 "cells": [
  {
   "cell_type": "code",
   "execution_count": 2,
   "metadata": {},
   "outputs": [
    {
     "name": "stdout",
     "output_type": "stream",
     "text": [
      " 310 questions found in dataset\n"
     ]
    }
   ],
   "source": [
    "\n",
    "\n",
    "\n",
    "\n",
    "import json\n",
    "import sys\n",
    "import os\n",
    "import pandas as pd\n",
    "import numpy as np\n",
    "import matplotlib.pyplot as plt\n",
    "import matplotlib.patches as mpatches\n",
    "import matplotlib.lines as mlines\n",
    "\n",
    "\n",
    "def load_json(file_path):\n",
    "    with open(f\"{file_path}\") as f:\n",
    "        data = json.load(f)\n",
    "    return data\n",
    "\n",
    "def write_json(data, file_path):\n",
    "    with open(f\"{file_path}\", \"w\") as f:\n",
    "        json.dump(data, f, indent=4)\n",
    "\n",
    "def load_csv(file_path):\n",
    "    with open(file_path, \"r\") as f:\n",
    "        # split by ;\n",
    "        data = f.readlines()\n",
    "        header = data[0].split(\";\")\n",
    "        data = [line.split(\";\") for line in data[1:]]\n",
    "        data = [dict(zip(header, line)) for line in data]\n",
    "    return data\n",
    "\n",
    "\n",
    "path = \"../data/sec_filings/0_id_mapper_questions.json\"\n",
    "id_mapper_data = load_json(path)\n",
    "questions_path = \".././SEC_Filing_Tables_Dataset.csv\"\n",
    "questions = pd.read_csv(filepath_or_buffer=questions_path, sep=\";\")\n",
    "questions.fillna(\"\", inplace=True)\n",
    "\n",
    "id_list = [doc[\"question_id\"] for doc in id_mapper_data]\n",
    "\n",
    "# questions to dict\n",
    "questions = questions.to_dict(orient=\"records\")\n",
    "questions_filtered = [q for q in questions if q[\"question\"] in id_list]\n",
    "\n",
    "print(f\" {len(questions_filtered)} questions found in dataset\")\n",
    "\n",
    "\n",
    "\n",
    "\n",
    "\n",
    "\n"
   ]
  },
  {
   "cell_type": "code",
   "execution_count": 1,
   "metadata": {},
   "outputs": [
    {
     "ename": "NameError",
     "evalue": "name 'id_mapper_data' is not defined",
     "output_type": "error",
     "traceback": [
      "\u001b[0;31m---------------------------------------------------------------------------\u001b[0m",
      "\u001b[0;31mNameError\u001b[0m                                 Traceback (most recent call last)",
      "Cell \u001b[0;32mIn[1], line 1\u001b[0m\n\u001b[0;32m----> 1\u001b[0m categories \u001b[38;5;241m=\u001b[39m [doc[\u001b[38;5;124m\"\u001b[39m\u001b[38;5;124mcategory\u001b[39m\u001b[38;5;124m\"\u001b[39m] \u001b[38;5;28;01mfor\u001b[39;00m doc \u001b[38;5;129;01min\u001b[39;00m \u001b[43mid_mapper_data\u001b[49m]\n\u001b[1;32m      3\u001b[0m \u001b[38;5;28;01mfor\u001b[39;00m c \u001b[38;5;129;01min\u001b[39;00m categories:\n\u001b[1;32m      4\u001b[0m     \u001b[38;5;28mprint\u001b[39m(c)\n",
      "\u001b[0;31mNameError\u001b[0m: name 'id_mapper_data' is not defined"
     ]
    }
   ],
   "source": [
    "categories = [doc[\"category\"] for doc in id_mapper_data]\n",
    "\n",
    "for c in categories:\n",
    "    print(c)"
   ]
  },
  {
   "cell_type": "code",
   "execution_count": null,
   "metadata": {},
   "outputs": [
    {
     "name": "stdout",
     "output_type": "stream",
     "text": [
      "Item not found: How much was the regulated business operating revenue of American Water Works in Pennsylvania in 2023?\n",
      "Item not found: What has been the worth of common stock shares for Uber at the end of 2021?\n",
      "Item not found: How much was the value of common stock shares of Uber higher at the end of 2022 compared to the end of 2021?\n",
      "Item not found: What's the value of RSUs Uber provided its employees in 2023?\n",
      "Agrees: 310\n",
      "Disagrees: 0\n"
     ]
    }
   ],
   "source": [
    "count_disagrees = 0\n",
    "count_agrees = 0\n",
    "for doc in id_mapper_data:\n",
    "    item = next((q for q in questions_filtered if q[\"question\"] == doc[\"question_id\"]), None)\n",
    "    if item is None:\n",
    "        print(f\"Item not found: {doc['question_id']}\")\n",
    "        continue\n",
    "    if item[\"category\"] != doc[\"category\"]:\n",
    "        count_disagrees += 1\n",
    "        doc[\"category\"] = item[\"category\"]\n",
    "    else:\n",
    "        count_agrees += 1\n",
    "        \n",
    "\n",
    "print(f\"Agrees: {count_agrees}\")\n",
    "print(f\"Disagrees: {count_disagrees}\")\n",
    "\n",
    "write_json(id_mapper_data, path)"
   ]
  },
  {
   "cell_type": "code",
   "execution_count": null,
   "metadata": {},
   "outputs": [
    {
     "name": "stdout",
     "output_type": "stream",
     "text": [
      "Question: How much was the regulated business operating revenue of American Water Works in Mississipi in 2023? \n",
      "Search Reference: \n",
      "\n",
      "Question: What's the amount of customers which American Water Works served in the Water sector for the class of Police offices? \n",
      "Search Reference: \n",
      "\n",
      "Question: In which state is the regulatory practice Revenue stability mechanisms not allowed to be applied for American Water Works? \n",
      "Search Reference: \n",
      "\n",
      "Question: What's the name of the CTO of American Water Works? \n",
      "Search Reference: \n",
      "\n",
      "Question: What's been the total Adjusted O&M efficiency ratio for the regulated businesses of American Water Works in 2019? \n",
      "Search Reference: \n",
      "\n",
      "Question: How much are the annualized incremental revenues in terms of infrastructure surcharges for American Water Works in 2023 for the state of New York? \n",
      "Search Reference: \n",
      "\n",
      "Question: What have been the employee related costs for American Water Works in 2019? \n",
      "Search Reference: \n",
      "\n",
      "Question: How much have been the operational costs for IT hardware for American Water Works in 2022? \n",
      "Search Reference: \n",
      "\n",
      "Question: What's the rating outlook of Fitch for American Water Works as of January 2024? \n",
      "Search Reference: \n",
      "\n",
      "Question: What's the median useful life for the services, meters and fire hydrants of American Water Works by the end 2023? \n",
      "Search Reference: \n",
      "\n",
      "Question: In which of the months December, September or June did American Water Works paid the highest per share cash dividends in 2023? \n",
      "Search Reference: \n",
      "\n",
      "Question: How many monthly active users did Uber have in 2019? \n",
      "Search Reference: \n",
      "\n",
      "Question: What's the sum of booked trips of Uber in the years 2021, 2022 and 2023 combined? \n",
      "Search Reference: \n",
      "\n",
      "Question: What's the amount research costs \\(without development\\) for Uber in 2022? \n",
      "Search Reference: \n",
      "\n",
      "Question: How much have been the foreign currency exchange losses for Uber in 2019? \n",
      "Search Reference: \n",
      "\n",
      "Question: What has been the total revenue for Uber in the investement segment in 2022? \n",
      "Search Reference: \n",
      "\n",
      "Question: Which asset category of site improvements, computer equipment or furniture and fixtures exceeds the estimated useful life of 20 years? \n",
      "Search Reference: \n",
      "\n",
      "Question: What are the open tax years for Uber for their jurisdiction in Germany? \n",
      "Search Reference: \n",
      "\n",
      "Question: What's been the revenue of Uber in 2023 in Europe? \n",
      "Search Reference: \n",
      "\n",
      "Question: What's been the revenue of Uber in 2023 in Germany? \n",
      "Search Reference: \n",
      "\n",
      "Question: In which year was the 2026 Senior Note debt higher for Uber - 2022 or 2023? \n",
      "Search Reference: \n",
      "\n",
      "Question: How much was the pre-tax loss for Uber in 2019? \n",
      "Search Reference: \n",
      "\n"
     ]
    }
   ],
   "source": [
    "documents_with_empty_tables = [doc[\"question_id\"] for doc in id_mapper_data if doc[\"table\"] == \"\"]\n",
    "    \n",
    "filtered_questions = [q for q in questions if q[\"question\"] in documents_with_empty_tables]\n",
    "\n",
    "for q in filtered_questions:\n",
    "    print(f\"Question: {q['question']} \\nSearch Reference: {q['search reference']}\\n\")"
   ]
  },
  {
   "cell_type": "code",
   "execution_count": null,
   "metadata": {},
   "outputs": [],
   "source": [
    "doc_ids = list({doc[\"id\"] for doc in id_mapper_data})"
   ]
  },
  {
   "cell_type": "code",
   "execution_count": null,
   "metadata": {},
   "outputs": [
    {
     "name": "stderr",
     "output_type": "stream",
     "text": [
      "/var/folders/7d/g2j4hccn7pxdk3cp75110hcr0000gn/T/ipykernel_18528/5983203.py:18: MatplotlibDeprecationWarning: The get_cmap function was deprecated in Matplotlib 3.7 and will be removed in 3.11. Use ``matplotlib.colormaps[name]`` or ``matplotlib.colormaps.get_cmap()`` or ``pyplot.get_cmap()`` instead.\n",
      "  colors = cm.get_cmap('tab20b', len(unique_categories))\n",
      "/var/folders/7d/g2j4hccn7pxdk3cp75110hcr0000gn/T/ipykernel_18528/5983203.py:29: UserWarning: set_ticklabels() should only be used with a fixed number of ticks, i.e. after set_ticks() or using a FixedLocator.\n",
      "  ax.set_xticklabels(wrapped_labels, fontname='Georgia')\n"
     ]
    },
    {
     "data": {
      "image/png": "[encoded data removed]",
      "text/plain": [
       "<Figure size 640x480 with 1 Axes>"
      ]
     },
     "metadata": {},
     "output_type": "display_data"
    }
   ],
   "source": [
    "import textwrap\n",
    "import matplotlib.cm as cm\n",
    "\n",
    "plt.rcParams['font.family'] = 'Georgia'\n",
    "\n",
    "# plot the distribution of the categories\n",
    "# also show the percentage of the categories as numbers\n",
    "categories = [doc[\"category\"] for doc in id_mapper_data if doc[\"id\"] == doc_ids[0]]\n",
    "unique_categories = [\"lookup\", \"advanced lookup\", \"calculation\", \"boolean\", \"not answerable\"]\n",
    "labels = [\"Lookup\", \"Advanced Lookup\", \"Calculation\", \"Boolean\", \"Not answerable\"]\n",
    "category_counts = [categories.count(cat) for cat in unique_categories]\n",
    "category_percentages = [count / len(categories) for count in category_counts]\n",
    "\n",
    "# Wrap labels if they are too long\n",
    "wrapped_labels = [textwrap.fill(label, 11) for label in labels]\n",
    "\n",
    "# Define colors for each category\n",
    "colors = cm.get_cmap('tab20b', len(unique_categories))\n",
    "\n",
    "fig, ax = plt.subplots()\n",
    "bars = ax.bar(unique_categories, category_counts, color=[colors(i) for i in range(len(unique_categories))], zorder=3)\n",
    "ax.set_ylabel(\"Count\", fontname='Georgia')\n",
    "ax.set_title(\"Distribution of Question Categories\\n Uber\", fontname='Georgia')\n",
    "\n",
    "# Extend the y-axis\n",
    "ax.set_ylim(0, max(category_counts) + 20)\n",
    "\n",
    "# Set the wrapped labels\n",
    "ax.set_xticklabels(wrapped_labels, fontname='Georgia')\n",
    "\n",
    "for i, cat in enumerate(unique_categories):\n",
    "    ax.text(i, category_counts[i] + 2, f\"{int(category_percentages[i]*100)} %\", ha=\"center\", fontname='Georgia', zorder=4)  # Adjusted spacing\n",
    "\n",
    "ax.yaxis.grid(True, zorder=0)\n",
    "plt.show()\n",
    "\n",
    "# save plot to pdf\n",
    "fig.savefig(\"../data/results/category_distribution_sec_filings_uber.pdf\", bbox_inches='tight')"
   ]
  },
  {
   "cell_type": "code",
   "execution_count": null,
   "metadata": {},
   "outputs": [
    {
     "name": "stdout",
     "output_type": "stream",
     "text": [
      "420\n"
     ]
    },
    {
     "name": "stderr",
     "output_type": "stream",
     "text": [
      "/var/folders/7d/g2j4hccn7pxdk3cp75110hcr0000gn/T/ipykernel_18528/481109210.py:19: MatplotlibDeprecationWarning: The get_cmap function was deprecated in Matplotlib 3.7 and will be removed in 3.11. Use ``matplotlib.colormaps[name]`` or ``matplotlib.colormaps.get_cmap()`` or ``pyplot.get_cmap()`` instead.\n",
      "  colors = cm.get_cmap('tab20b', len(unique_categories))\n",
      "/var/folders/7d/g2j4hccn7pxdk3cp75110hcr0000gn/T/ipykernel_18528/481109210.py:30: UserWarning: set_ticklabels() should only be used with a fixed number of ticks, i.e. after set_ticks() or using a FixedLocator.\n",
      "  ax.set_xticklabels(wrapped_labels, fontname='Georgia')\n"
     ]
    },
    {
     "data": {
      "image/png": "[encoded data removed]",
      "text/plain": [
       "<Figure size 640x480 with 1 Axes>"
      ]
     },
     "metadata": {},
     "output_type": "display_data"
    }
   ],
   "source": [
    "import textwrap\n",
    "import matplotlib.cm as cm\n",
    "\n",
    "plt.rcParams['font.family'] = 'Georgia'\n",
    "\n",
    "# plot the distribution of the categories\n",
    "# also show the percentage of the categories as numbers\n",
    "categories = [doc[\"category\"] for doc in id_mapper_data if doc[\"id\"] == doc_ids[0]]\n",
    "unique_categories = [\"lookup\", \"advanced lookup\", \"calculation\", \"boolean\", \"not answerable\"]\n",
    "labels = [\"Lookup\", \"Advanced Lookup\", \"Calculation\", \"Boolean\", \"Not answerable\"]\n",
    "category_counts = [categories.count(cat) for cat in unique_categories]\n",
    "print(sum(category_counts)*2)\n",
    "category_percentages = [count / len(categories) for count in category_counts]\n",
    "\n",
    "# Wrap labels if they are too long\n",
    "wrapped_labels = [textwrap.fill(label, 11) for label in labels]\n",
    "\n",
    "# Define colors for each category\n",
    "colors = cm.get_cmap('tab20b', len(unique_categories))\n",
    "\n",
    "fig, ax = plt.subplots()\n",
    "bars = ax.bar(unique_categories, category_counts, color=[colors(i) for i in range(len(unique_categories))], zorder=3)\n",
    "ax.set_ylabel(\"Count\", fontname='Georgia')\n",
    "ax.set_title(\"Distribution of Question Categories\\n American Water Works\", fontname='Georgia')\n",
    "\n",
    "# Extend the y-axis\n",
    "ax.set_ylim(0, max(category_counts) + 20)\n",
    "\n",
    "# Set the wrapped labels\n",
    "ax.set_xticklabels(wrapped_labels, fontname='Georgia')\n",
    "for i, cat in enumerate(unique_categories):\n",
    "    ax.text(i, category_counts[i] + 3, f\"{int(category_percentages[i]*100)} %\", ha=\"center\", fontname='Georgia', zorder=4)  # Adjusted spacing\n",
    "\n",
    "ax.yaxis.grid(True, zorder=0)\n",
    "plt.show()\n",
    "\n",
    "# save plot to pdf\n",
    "fig.savefig(\"../data/results/category_distribution_sec_filings_awk.pdf\", bbox_inches='tight')"
   ]
  },
  {
   "cell_type": "code",
   "execution_count": null,
   "metadata": {},
   "outputs": [
    {
     "name": "stderr",
     "output_type": "stream",
     "text": [
      "/var/folders/7d/g2j4hccn7pxdk3cp75110hcr0000gn/T/ipykernel_18528/2000132418.py:14: MatplotlibDeprecationWarning: The get_cmap function was deprecated in Matplotlib 3.7 and will be removed in 3.11. Use ``matplotlib.colormaps[name]`` or ``matplotlib.colormaps.get_cmap()`` or ``pyplot.get_cmap()`` instead.\n",
      "  colors = cm.get_cmap('tab20b', len(unique_domains))\n",
      "/var/folders/7d/g2j4hccn7pxdk3cp75110hcr0000gn/T/ipykernel_18528/2000132418.py:20: UserWarning: set_ticklabels() should only be used with a fixed number of ticks, i.e. after set_ticks() or using a FixedLocator.\n",
      "  ax.set_xticklabels(wrapped_labels, fontname='Georgia')\n",
      "/var/folders/7d/g2j4hccn7pxdk3cp75110hcr0000gn/T/ipykernel_18528/2000132418.py:26: UserWarning: set_ticklabels() should only be used with a fixed number of ticks, i.e. after set_ticks() or using a FixedLocator.\n",
      "  ax.set_xticklabels(wrapped_labels, fontname='Georgia')\n"
     ]
    },
    {
     "data": {
      "image/png": "[encoded data removed]",
      "text/plain": [
       "<Figure size 640x480 with 1 Axes>"
      ]
     },
     "metadata": {},
     "output_type": "display_data"
    }
   ],
   "source": [
    "# plot the distribution of domains\n",
    "# also show the percentage of the domains as numbers\n",
    "domains = [doc[\"domain\"] for doc in id_mapper_data]\n",
    "unique_domains = list(set(domains))\n",
    "domain_counts = [domains.count(domain) for domain in unique_domains]\n",
    "domain_percentages = [count / len(domains) for count in domain_counts]\n",
    "\n",
    "\n",
    "# Wrap labels if they are too long\n",
    "labels = [\"Business & Economy\", \"Science & Technology\", \"Politics & Society\", \"Sports &   Entertainment\", \"Geography &  Transportation\"]\n",
    "wrapped_labels = [textwrap.fill(label, 14) for label in labels]\n",
    "\n",
    "# Define colors for each domain\n",
    "colors = cm.get_cmap('tab20b', len(unique_domains))\n",
    "\n",
    "fig, ax = plt.subplots()\n",
    "bars = ax.bar(unique_domains, domain_counts, color=[colors(i) for i in range(len(unique_domains))], zorder=3)\n",
    "ax.set_ylabel(\"Count\", fontname='Georgia')\n",
    "ax.set_title(\"Distribution of Question Domains\", fontname='Georgia')\n",
    "ax.set_xticklabels(wrapped_labels, fontname='Georgia')\n",
    "\n",
    "# Extend the y-axis\n",
    "ax.set_ylim(0, max(domain_counts) + 20)\n",
    "\n",
    "# Set the wrapped labels\n",
    "ax.set_xticklabels(wrapped_labels, fontname='Georgia')\n",
    "\n",
    "for i, domain in enumerate(unique_domains):\n",
    "    ax.text(i, domain_counts[i] + 5, f\"{int(domain_percentages[i]*100)} %\", ha=\"center\", fontname='Georgia', zorder=4)  # Adjusted spacing\n",
    "    \n",
    "ax.yaxis.grid(True, zorder=0)\n",
    "plt.show()\n",
    "\n",
    "# save figure to pdf\n",
    "fig.savefig(\"../data/results/distribution_of_question_domains_wikitables.pdf\", bbox_inches='tight')"
   ]
  },
  {
   "cell_type": "code",
   "execution_count": null,
   "metadata": {},
   "outputs": [
    {
     "name": "stdout",
     "output_type": "stream",
     "text": [
      "\n",
      "Document: uber-20231231.htm\n",
      "Num of HTML tokens: 185120\n",
      "Num of tables: 103\n",
      "\n",
      "Rows:\n",
      "  Avg: 10.407766990291263\n",
      "  Min: 1\n",
      "  Max: 48\n",
      "  Std: 8.136501589778236\n",
      "\n",
      "Columns:\n",
      "  Avg: 9.019417475728156\n",
      "  Min: 2\n",
      "  Max: 31\n",
      "  Std: 5.1350321323698935\n",
      "\n",
      "Tokens HTML:\n",
      "  Avg: 722.5825242718447\n",
      "  Min: 63\n",
      "  Max: 3974\n",
      "  Std: 708.6233820293236\n",
      "\n",
      "Tokens TabTree Text:\n",
      "  Avg: 1917.8725490196077\n",
      "  Min: 110\n",
      "  Max: 10124\n",
      "  Std: 2023.6332336044509\n",
      "\n",
      "Document: awk-20231231.htm\n",
      "Num of HTML tokens: 194264\n",
      "Num of tables: 114\n",
      "\n",
      "Rows:\n",
      "  Avg: 10.587719298245615\n",
      "  Min: 1\n",
      "  Max: 46\n",
      "  Std: 7.994308725048211\n",
      "\n",
      "Columns:\n",
      "  Avg: 9.587719298245615\n",
      "  Min: 1\n",
      "  Max: 26\n",
      "  Std: 5.597322987193156\n",
      "\n",
      "Tokens HTML:\n",
      "  Avg: 781.578947368421\n",
      "  Min: 54\n",
      "  Max: 3490\n",
      "  Std: 680.004203995478\n",
      "\n",
      "Tokens TabTree Text:\n",
      "  Avg: 2298.157894736842\n",
      "  Min: 74\n",
      "  Max: 18169\n",
      "  Std: 2842.9393535655504\n"
     ]
    }
   ],
   "source": [
    "document_summary_path = \"../data/evaluation/dataset_analysis/analysis-2025-03-10-09-44-29.json\"\n",
    "document_summary = load_json(document_summary_path)\n",
    "\n",
    "names = [\"html\", \"csv\", \"json-records\", \"markdown\", \"tabtree-base\", \"tabtree-text\", \"tabtree-text-with-context-intersection\", \"tabtree-text-augmented-with-context-intersection\", \"tabtree-context-empty\"]\n",
    "display_names = [\"HTML\", \"CSV\", \"JSON\", \"Markdown\", \"TabTree Base\", \"TabTree - Text\", \"TabTree - Text w/ Context-I.\", \"TabTree - Text-Augm. w/ Context-I.\", \"TabTree - Context Empty\"]\n",
    "\n",
    "\n",
    "# 0: html, 1: plain text, # 2: csv\n",
    "document_list = document_summary[0]['dataset_summary']['document_list']\n",
    "\n",
    "\n",
    "\n",
    "for i, table_data_html in enumerate(document_summary[0]['dataset_summary']['table_list']):    \n",
    "    print(f\"\\nDocument: {document_list[i]['id']}\")\n",
    "    print(f\"Num of HTML tokens: {document_list[i]['num_tokens']}\")\n",
    "    print(f\"Num of tables: {len(table_data_html['num_tokens'])}\")\n",
    "    \n",
    "    \n",
    "    print(\"\\nRows:\")\n",
    "    print(f\"  Avg: {table_data_html[\"rows_statistics\"][\"avg\"]}\")\n",
    "    print(f\"  Min: {table_data_html[\"rows_statistics\"][\"min\"]}\")\n",
    "    print(f\"  Max: {table_data_html[\"rows_statistics\"][\"max\"]}\")\n",
    "    print(f\"  Std: {table_data_html[\"rows_statistics\"][\"std\"]}\")\n",
    "\n",
    "    print(\"\\nColumns:\")\n",
    "    print(f\"  Avg: {table_data_html[\"columns_statistics\"][\"avg\"]}\")\n",
    "    print(f\"  Min: {table_data_html[\"columns_statistics\"][\"min\"]}\")\n",
    "    print(f\"  Max: {table_data_html[\"columns_statistics\"][\"max\"]}\")\n",
    "    print(f\"  Std: {table_data_html[\"columns_statistics\"][\"std\"]}\")\n",
    "\n",
    "\n",
    "    print(\"\\nTokens HTML:\")\n",
    "    print(f\"  Avg: {table_data_html[\"token_statistics\"][\"avg\"]}\")\n",
    "    print(f\"  Min: {table_data_html[\"token_statistics\"][\"min\"]}\")\n",
    "    print(f\"  Max: {table_data_html[\"token_statistics\"][\"max\"]}\")\n",
    "    print(f\"  Std: {table_data_html[\"token_statistics\"][\"std\"]}\")\n",
    "    \n",
    "    print(\"\\nTokens TabTree Text:\")\n",
    "    table_data_tabtree = document_summary[1]['dataset_summary']['table_list'][i]\n",
    "    \n",
    "    print(f\"  Avg: {table_data_tabtree[\"token_statistics\"][\"avg\"]}\")\n",
    "    print(f\"  Min: {table_data_tabtree[\"token_statistics\"][\"min\"]}\")\n",
    "    print(f\"  Max: {table_data_tabtree[\"token_statistics\"][\"max\"]}\")\n",
    "    print(f\"  Std: {table_data_tabtree[\"token_statistics\"][\"std\"]}\")\n",
    "\n",
    "\n"
   ]
  },
  {
   "cell_type": "code",
   "execution_count": null,
   "metadata": {},
   "outputs": [],
   "source": [
    "all_serialization_approaches_path = \"../data/evaluation/dataset_analysis/analysis-2025-04-05-11-17-13.json\"\n",
    "all_serialization_approaches = load_json(all_serialization_approaches_path)\n",
    "\n",
    "names = [\"html\", \"csv\", \"json-records\", \"markdown\", \"tabtree-base\", \"tabtree-text\", \"tabtree-text-with-context-intersection\", \"tabtree-text-augmented-with-context-intersection\", \"tabtree-context-empty\"]\n",
    "display_names = [\"HTML\", \"CSV\", \"JSON\", \"Markdown\", \"TabTree Base\", \"TabTree - Text\", \"TabTree - Text w/ Context-I.\", \"TabTree - Text-Augm. w/ Context-I.\", \"TabTree - Context Empty\"]\n",
    "\n",
    "for i, data in enumerate(all_serialization_approaches):\n",
    "    name = [temp_name for temp_name in names if temp_name in data[\"table_serialization_mode\"]][0]\n",
    "    index_name = names.index(name)\n",
    "    \n",
    "    table_data = data['dataset_summary']['table_statistics']\n",
    "    \n",
    "    \n",
    "    \n",
    "    print(f\"\\nSerialization mode: {display_names[index_name]}\")\n"
   ]
  }
 ],
 "metadata": {
  "kernelspec": {
   "display_name": "rag-project",
   "language": "python",
   "name": "python3"
  },
  "language_info": {
   "codemirror_mode": {
    "name": "ipython",
    "version": 3
   },
   "file_extension": ".py",
   "mimetype": "text/x-python",
   "name": "python",
   "nbconvert_exporter": "python",
   "pygments_lexer": "ipython3",
   "version": "3.12.9"
  }
 },
 "nbformat": 4,
 "nbformat_minor": 2
}
