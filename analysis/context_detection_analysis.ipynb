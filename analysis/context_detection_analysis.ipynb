{
 "cells": [
  {
   "cell_type": "markdown",
   "metadata": {},
   "source": [
    "## Load Files"
   ]
  },
  {
   "cell_type": "code",
   "execution_count": 7,
   "metadata": {},
   "outputs": [],
   "source": [
    "import json\n",
    "\n",
    "\n",
    "def load_json(file_path):\n",
    "    with open(f\"{file_path}\") as f:\n",
    "        data = json.load(f)\n",
    "    return data"
   ]
  },
  {
   "cell_type": "code",
   "execution_count": 9,
   "metadata": {},
   "outputs": [
    {
     "name": "stdout",
     "output_type": "stream",
     "text": [
      "Context Detection Results\n",
      "========================================\n",
      "Results for Full Table:\n",
      "  Column Headers:\n",
      "    Accuracy Full: 0.76\n",
      "    Accuracy Fine-grained: 0.86\n",
      "    F1 Fine-grained: 0.83\n",
      "  Row Headers:\n",
      "    Accuracy Full: 0.76\n",
      "    Accuracy Fine-grained: 0.66\n",
      "    F1 Fine-grained: 0.63\n",
      "\n",
      "\n",
      "Results for 1-Range:\n",
      "  Column Headers:\n",
      "    Accuracy Full: 0.76\n",
      "    Accuracy Fine-grained: 0.86\n",
      "    F1 Fine-grained: 0.83\n",
      "  Row Headers:\n",
      "    Accuracy Full: 0.76\n",
      "    Accuracy Fine-grained: 0.51\n",
      "    F1 Fine-grained: 0.47\n",
      "\n",
      "\n",
      "Results for 2-Range:\n",
      "  Column Headers:\n",
      "    Accuracy Full: 0.81\n",
      "    Accuracy Fine-grained: 0.87\n",
      "    F1 Fine-grained: 0.85\n",
      "  Row Headers:\n",
      "    Accuracy Full: 0.81\n",
      "    Accuracy Fine-grained: 0.63\n",
      "    F1 Fine-grained: 0.62\n",
      "\n",
      "\n"
     ]
    }
   ],
   "source": [
    "range_1_file = load_json(\"../data/evaluation/header_detection/header_detection_results_2025-03-29-15-50-39.json\")\n",
    "range_2_file = load_json(\"../data/evaluation/header_detection/header_detection_results_2025-03-29-16-34-02.json\")\n",
    "full_table_file = load_json(\"../data/evaluation/header_detection/header_detection_results_2025-03-29-16-08-03.json\")\n",
    "\n",
    "\n",
    "\n",
    "results = [full_table_file, range_1_file, range_2_file]\n",
    "names = [\"Full Table\", \"1-Range\", \"2-Range\"]\n",
    "\n",
    "\n",
    "print(\"Context Detection Results\")\n",
    "print(\"========================================\")\n",
    "for i, result in enumerate(results):\n",
    "    print(f\"Results for {names[i]}:\")\n",
    "    \n",
    "    print(\"  Column Headers:\")\n",
    "    print(\"    Accuracy Full: {:.2f}\".format(result[\"accuracy_rows\"]))\n",
    "    print(\"    Accuracy Fine-grained: {:.2f}\".format(result[\"advanced_analysis\"][\"mean_accuracy_column_header_rows\"]))\n",
    "    print(\"    F1 Fine-grained: {:.2f}\".format(result[\"advanced_analysis\"][\"mean_f1_score_column_header_rows\"]))\n",
    "    \n",
    "    print(\"  Row Headers:\")\n",
    "    print(\"    Accuracy Full: {:.2f}\".format(result[\"accuracy_rows\"]))\n",
    "    print(\"    Accuracy Fine-grained: {:.2f}\".format(result[\"advanced_analysis\"][\"mean_accuracy_row_label_columns\"]))\n",
    "    print(\"    F1 Fine-grained: {:.2f}\".format(result[\"advanced_analysis\"][\"mean_f1_score_row_label_columns\"]))\n",
    "    \n",
    "    print(\"\\n\")"
   ]
  }
 ],
 "metadata": {
  "kernelspec": {
   "display_name": "rag-project",
   "language": "python",
   "name": "python3"
  },
  "language_info": {
   "codemirror_mode": {
    "name": "ipython",
    "version": 3
   },
   "file_extension": ".py",
   "mimetype": "text/x-python",
   "name": "python",
   "nbconvert_exporter": "python",
   "pygments_lexer": "ipython3",
   "version": "3.12.5"
  }
 },
 "nbformat": 4,
 "nbformat_minor": 2
}
